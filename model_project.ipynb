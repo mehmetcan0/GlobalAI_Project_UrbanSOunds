{
  "nbformat": 4,
  "nbformat_minor": 0,
  "metadata": {
    "colab": {
      "provenance": [],
      "collapsed_sections": [],
      "authorship_tag": "ABX9TyNrdmzMpOJC8fEmEYfLkIl1",
      "include_colab_link": true
    },
    "kernelspec": {
      "name": "python3",
      "display_name": "Python 3"
    },
    "language_info": {
      "name": "python"
    },
    "accelerator": "GPU"
  },
  "cells": [
    {
      "cell_type": "markdown",
      "metadata": {
        "id": "view-in-github",
        "colab_type": "text"
      },
      "source": [
        "<a href=\"https://colab.research.google.com/github/mehmetcan0/GlobalAI_Project_UrbanSOunds/blob/main/model_project.ipynb\" target=\"_parent\"><img src=\"https://colab.research.google.com/assets/colab-badge.svg\" alt=\"Open In Colab\"/></a>"
      ]
    },
    {
      "cell_type": "code",
      "execution_count": 1,
      "metadata": {
        "colab": {
          "base_uri": "https://localhost:8080/"
        },
        "id": "Ob-AWd-K_hLh",
        "outputId": "76ed5bde-aa6e-4fcc-8f90-0ccf4f61d9fe"
      },
      "outputs": [
        {
          "output_type": "stream",
          "name": "stdout",
          "text": [
            "Mounted at /content/drive/\n"
          ]
        }
      ],
      "source": [
        "from google.colab import drive\n",
        "drive.mount('/content/drive/')"
      ]
    },
    {
      "cell_type": "code",
      "source": [
        "import cv2\n",
        "import os\n",
        "import numpy as np\n",
        "import pandas as pd\n",
        "import matplotlib.pyplot as plt\n",
        "%matplotlib inline\n",
        "import tensorflow as tf"
      ],
      "metadata": {
        "id": "GDi9QDj6_mOD"
      },
      "execution_count": 3,
      "outputs": []
    },
    {
      "cell_type": "code",
      "source": [
        "X_train = np.load('/content/drive/MyDrive/X_train.npy')\n",
        "y_train = np.load('/content/drive/MyDrive/y_train.npy')\n",
        "X_val = np.load('/content/drive/MyDrive/X_val.npy')\n",
        "y_val = np.load('/content/drive/MyDrive/y_val.npy')\n",
        "X_test = np.load('/content/drive/MyDrive/X_test.npy')\n",
        "y_test = np.load('/content/drive/MyDrive/y_test.npy')"
      ],
      "metadata": {
        "id": "AJxa9hZR_mRp"
      },
      "execution_count": 4,
      "outputs": []
    },
    {
      "cell_type": "code",
      "source": [
        "model = tf.keras.Sequential()"
      ],
      "metadata": {
        "id": "sRLgGBhW_mVB"
      },
      "execution_count": 5,
      "outputs": []
    },
    {
      "cell_type": "code",
      "source": [
        "model.add(tf.keras.layers.Conv2D(64,\n",
        "                                 kernel_size=(3,3),\n",
        "                                 strides=(1,1),\n",
        "                                 padding=\"same\",\n",
        "                                 activation=\"relu\",\n",
        "                                 input_shape=(64, 64, 1)))\n",
        "\n",
        "model.add(tf.keras.layers.MaxPooling2D((2,2)))\n",
        "model.add(tf.keras.layers.Conv2D(64,\n",
        "                                 kernel_size=(3,3),\n",
        "                                 strides=(1,1),\n",
        "                                 padding=\"same\",\n",
        "                                 activation=\"relu\"))\n",
        "\n",
        "model.add(tf.keras.layers.MaxPooling2D((2,2)))\n",
        "\n",
        "model.add(tf.keras.layers.Conv2D(64,\n",
        "                                 kernel_size=(3,3),\n",
        "                                 strides=(1,1),\n",
        "                                 padding=\"same\",\n",
        "                                 activation=\"relu\"))\n",
        "\n",
        "\n",
        "model.add(tf.keras.layers.Flatten())\n",
        "\n",
        "model.add(tf.keras.layers.Dense(64, activation=\"relu\"))\n",
        "model.add(tf.keras.layers.Dropout(0.3))\n",
        "\n",
        "model.add(tf.keras.layers.Dense(64, activation=\"relu\"))\n",
        "model.add(tf.keras.layers.Dropout(0.3))\n",
        "\n",
        "model.add(tf.keras.layers.Dense(10, activation=\"softmax\"))"
      ],
      "metadata": {
        "id": "w9TkqAXq_mYg"
      },
      "execution_count": 6,
      "outputs": []
    },
    {
      "cell_type": "code",
      "source": [
        "model.compile(optimizer=\"adam\",\n",
        "              loss=\"sparse_categorical_crossentropy\",\n",
        "              metrics=[\"accuracy\"])"
      ],
      "metadata": {
        "id": "lQHJbWdd_pKf"
      },
      "execution_count": 7,
      "outputs": []
    },
    {
      "cell_type": "code",
      "source": [
        "results = model.fit(X_train, y_train,\n",
        "                    batch_size=64,\n",
        "                    epochs=25,\n",
        "                    validation_data=(X_val, y_val))"
      ],
      "metadata": {
        "colab": {
          "base_uri": "https://localhost:8080/"
        },
        "id": "LMGPprS7_oyS",
        "outputId": "f7cc7329-2fd4-4b97-edd1-d51e43d5b150"
      },
      "execution_count": 8,
      "outputs": [
        {
          "output_type": "stream",
          "name": "stdout",
          "text": [
            "Epoch 1/25\n",
            "110/110 [==============================] - 12s 19ms/step - loss: 1.7955 - accuracy: 0.3416 - val_loss: 1.2885 - val_accuracy: 0.5569\n",
            "Epoch 2/25\n",
            "110/110 [==============================] - 2s 18ms/step - loss: 1.2652 - accuracy: 0.5634 - val_loss: 0.9213 - val_accuracy: 0.7001\n",
            "Epoch 3/25\n",
            "110/110 [==============================] - 2s 17ms/step - loss: 0.9968 - accuracy: 0.6596 - val_loss: 0.8617 - val_accuracy: 0.7337\n",
            "Epoch 4/25\n",
            "110/110 [==============================] - 2s 17ms/step - loss: 0.8402 - accuracy: 0.7180 - val_loss: 0.6687 - val_accuracy: 0.7974\n",
            "Epoch 5/25\n",
            "110/110 [==============================] - 2s 15ms/step - loss: 0.7053 - accuracy: 0.7608 - val_loss: 0.5888 - val_accuracy: 0.8110\n",
            "Epoch 6/25\n",
            "110/110 [==============================] - 2s 17ms/step - loss: 0.6076 - accuracy: 0.8037 - val_loss: 0.5764 - val_accuracy: 0.8232\n",
            "Epoch 7/25\n",
            "110/110 [==============================] - 2s 15ms/step - loss: 0.5297 - accuracy: 0.8263 - val_loss: 0.4751 - val_accuracy: 0.8432\n",
            "Epoch 8/25\n",
            "110/110 [==============================] - 2s 17ms/step - loss: 0.4537 - accuracy: 0.8518 - val_loss: 0.4685 - val_accuracy: 0.8518\n",
            "Epoch 9/25\n",
            "110/110 [==============================] - 2s 17ms/step - loss: 0.3964 - accuracy: 0.8656 - val_loss: 0.4374 - val_accuracy: 0.8669\n",
            "Epoch 10/25\n",
            "110/110 [==============================] - 2s 17ms/step - loss: 0.3455 - accuracy: 0.8850 - val_loss: 0.4633 - val_accuracy: 0.8561\n",
            "Epoch 11/25\n",
            "110/110 [==============================] - 2s 15ms/step - loss: 0.3136 - accuracy: 0.8953 - val_loss: 0.4458 - val_accuracy: 0.8726\n",
            "Epoch 12/25\n",
            "110/110 [==============================] - 2s 15ms/step - loss: 0.2682 - accuracy: 0.9059 - val_loss: 0.4860 - val_accuracy: 0.8719\n",
            "Epoch 13/25\n",
            "110/110 [==============================] - 2s 17ms/step - loss: 0.2812 - accuracy: 0.9042 - val_loss: 0.4882 - val_accuracy: 0.8719\n",
            "Epoch 14/25\n",
            "110/110 [==============================] - 2s 17ms/step - loss: 0.2481 - accuracy: 0.9187 - val_loss: 0.4351 - val_accuracy: 0.8740\n",
            "Epoch 15/25\n",
            "110/110 [==============================] - 2s 16ms/step - loss: 0.2022 - accuracy: 0.9341 - val_loss: 0.4606 - val_accuracy: 0.8719\n",
            "Epoch 16/25\n",
            "110/110 [==============================] - 2s 15ms/step - loss: 0.1771 - accuracy: 0.9404 - val_loss: 0.4947 - val_accuracy: 0.8690\n",
            "Epoch 17/25\n",
            "110/110 [==============================] - 2s 16ms/step - loss: 0.1790 - accuracy: 0.9387 - val_loss: 0.4821 - val_accuracy: 0.8826\n",
            "Epoch 18/25\n",
            "110/110 [==============================] - 2s 16ms/step - loss: 0.1671 - accuracy: 0.9419 - val_loss: 0.5751 - val_accuracy: 0.8697\n",
            "Epoch 19/25\n",
            "110/110 [==============================] - 2s 17ms/step - loss: 0.1521 - accuracy: 0.9486 - val_loss: 0.5283 - val_accuracy: 0.8812\n",
            "Epoch 20/25\n",
            "110/110 [==============================] - 2s 15ms/step - loss: 0.1438 - accuracy: 0.9545 - val_loss: 0.5262 - val_accuracy: 0.8797\n",
            "Epoch 21/25\n",
            "110/110 [==============================] - 2s 15ms/step - loss: 0.1377 - accuracy: 0.9533 - val_loss: 0.5596 - val_accuracy: 0.8812\n",
            "Epoch 22/25\n",
            "110/110 [==============================] - 2s 15ms/step - loss: 0.1203 - accuracy: 0.9571 - val_loss: 0.6030 - val_accuracy: 0.8697\n",
            "Epoch 23/25\n",
            "110/110 [==============================] - 2s 15ms/step - loss: 0.1255 - accuracy: 0.9576 - val_loss: 0.5843 - val_accuracy: 0.8740\n",
            "Epoch 24/25\n",
            "110/110 [==============================] - 2s 17ms/step - loss: 0.1231 - accuracy: 0.9595 - val_loss: 0.5373 - val_accuracy: 0.8769\n",
            "Epoch 25/25\n",
            "110/110 [==============================] - 2s 17ms/step - loss: 0.1222 - accuracy: 0.9579 - val_loss: 0.5770 - val_accuracy: 0.8883\n"
          ]
        }
      ]
    },
    {
      "cell_type": "code",
      "source": [
        "plt.figure(figsize=(10, 5))\n",
        "\n",
        "\n",
        "\n",
        "plt.plot(results.history[\"loss\"], label=\"train_loss\")\n",
        "\n",
        "plt.plot(results.history[\"val_loss\"], label=\"val_loss\")\n",
        "\n",
        "plt.ylabel(\"Loss\") \n",
        "plt.xlabel(\"Epoch\")\n",
        "\n",
        "plt.legend()\n",
        "plt.show()\n",
        "\n",
        "\n",
        "\n",
        "\n",
        "plt.figure(figsize=(10, 5))\n",
        "\n",
        "plt.plot(results.history[\"accuracy\"], label=\"train_accuracy\")\n",
        "\n",
        "plt.plot(results.history[\"val_accuracy\"], label=\"val_accuracy\")\n",
        "\n",
        "plt.ylabel(\"Accuracy\") \n",
        "plt.xlabel(\"Epoch\")\n",
        "\n",
        "plt.legend()\n",
        "plt.show()"
      ],
      "metadata": {
        "colab": {
          "base_uri": "https://localhost:8080/",
          "height": 651
        },
        "id": "jYFIOV2lBF7a",
        "outputId": "e6d9bba1-dbb5-4f25-b744-e7bfeaf73cc5"
      },
      "execution_count": 40,
      "outputs": [
        {
          "output_type": "display_data",
          "data": {
            "text/plain": [
              "<Figure size 720x360 with 1 Axes>"
            ],
            "image/png": "[encoded data removed]"
          },
          "metadata": {
            "needs_background": "light"
          }
        },
        {
          "output_type": "display_data",
          "data": {
            "text/plain": [
              "<Figure size 720x360 with 1 Axes>"
            ],
            "image/png": "[encoded data removed]"
          },
          "metadata": {
            "needs_background": "light"
          }
        }
      ]
    },
    {
      "cell_type": "code",
      "source": [
        "model.evaluate(X_test, y_test)"
      ],
      "metadata": {
        "colab": {
          "base_uri": "https://localhost:8080/"
        },
        "id": "aTYSJe0vBF_I",
        "outputId": "b8df3644-f070-4f7f-fab1-6b42d47faf2f"
      },
      "execution_count": 19,
      "outputs": [
        {
          "output_type": "stream",
          "name": "stdout",
          "text": [
            "11/11 [==============================] - 0s 16ms/step - loss: 0.3311 - accuracy: 0.9086\n"
          ]
        },
        {
          "output_type": "execute_result",
          "data": {
            "text/plain": [
              "[0.3311355710029602, 0.9085714221000671]"
            ]
          },
          "metadata": {},
          "execution_count": 19
        }
      ]
    },
    {
      "cell_type": "code",
      "source": [],
      "metadata": {
        "id": "dqbJ9p9QBGDY"
      },
      "execution_count": 37,
      "outputs": []
    },
    {
      "cell_type": "code",
      "source": [],
      "metadata": {
        "id": "h26_y9viBGHH"
      },
      "execution_count": 37,
      "outputs": []
    }
  ]
}